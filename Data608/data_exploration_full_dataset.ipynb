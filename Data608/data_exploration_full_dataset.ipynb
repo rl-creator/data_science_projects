{
 "cells": [
  {
   "cell_type": "markdown",
   "metadata": {},
   "source": [
    "Ryan Leeson, Keith Jennings"
   ]
  },
  {
   "cell_type": "code",
   "execution_count": 2,
   "metadata": {},
   "outputs": [],
   "source": [
    "#! scancel -u ryan.leeson -n sparkcluster "
   ]
  },
  {
   "cell_type": "code",
   "execution_count": 4,
   "metadata": {},
   "outputs": [
    {
     "name": "stderr",
     "output_type": "stream",
     "text": [
      "INFO:sparkhpc.sparkjob:Submitted batch job 8932\n",
      "\n",
      "INFO:sparkhpc.sparkjob:Submitted cluster 1\n"
     ]
    },
    {
     "data": {
      "text/html": [
       "\n",
       "        <div>\n",
       "            <p><b>SparkContext</b></p>\n",
       "\n",
       "            <p><a href=\"http://b09:4041\">Spark UI</a></p>\n",
       "\n",
       "            <dl>\n",
       "              <dt>Version</dt>\n",
       "                <dd><code>v2.4.0</code></dd>\n",
       "              <dt>Master</dt>\n",
       "                <dd><code>spark://b07:7077</code></dd>\n",
       "              <dt>AppName</dt>\n",
       "                <dd><code>pyspark-shell</code></dd>\n",
       "            </dl>\n",
       "        </div>\n",
       "        "
      ],
      "text/plain": [
       "<SparkContext master=spark://b07:7077 appName=pyspark-shell>"
      ]
     },
     "execution_count": 4,
     "metadata": {},
     "output_type": "execute_result"
    }
   ],
   "source": [
    "import os, atexit, sys, findspark, sparkhpc, pyspark\n",
    "from pyspark.context import SparkContext\n",
    "from pyspark.sql import SQLContext\n",
    "\n",
    "findspark.init()\n",
    "\n",
    "# specify your partition (unless you're OK with default)\n",
    "os.environ['SBATCH_PARTITION']='cpu24'\n",
    "\n",
    "sj = sparkhpc.sparkjob.sparkjob(\n",
    "    ncores = 10,                       # total number or cores\n",
    "    cores_per_executor = 5,            # parallelism of two executor\n",
    "    memory_per_core = 10240,           # memory per core in MB \n",
    "    walltime = \"4:0\"                   # hh:mm format\n",
    ")\n",
    "\n",
    "sj.wait_to_start()\n",
    "sc = sj.start_spark()\n",
    "scq = SQLContext(sc)\n",
    "\n",
    "def exitHandler(sj,sc):\n",
    "    try:\n",
    "        print('Trapped Exit cleaning up Spark Context')\n",
    "        sc.stop()\n",
    "    except:\n",
    "        pass\n",
    "    try:\n",
    "        print('Trapped Exit cleaning up Spark Job')\n",
    "        sj.stop()\n",
    "    except:\n",
    "        pass\n",
    "atexit.register(exitHandler,sj,sc);\n",
    "sc"
   ]
  },
  {
   "cell_type": "code",
   "execution_count": 5,
   "metadata": {},
   "outputs": [],
   "source": [
    "from textblob import TextBlob\n",
    "\n",
    "from pyspark.ml.feature import StopWordsRemover\n",
    "\n",
    "from pyspark.ml.feature import Tokenizer, RegexTokenizer\n",
    "from pyspark.sql.functions import col, udf, concat\n",
    "from pyspark.sql import functions as f\n",
    "\n",
    "from pyspark.ml import Pipeline\n",
    "\n",
    "from pyspark.sql.functions import input_file_name\n",
    "from pyspark.sql.types import *\n",
    "\n",
    "from pyspark.sql.functions import split, lower\n",
    "\n",
    "from pyspark.ml.feature import NGram, FeatureHasher, CountVectorizer, RegexTokenizer\n",
    "\n",
    "from pyspark.ml.linalg import Vectors, VectorUDT\n",
    "from pyspark.ml.feature import VectorAssembler\n",
    "\n",
    "\n",
    "from itertools import chain\n",
    "import numpy as np\n",
    "import pandas as pd\n",
    "\n",
    "\n",
    "from pyspark import keyword_only\n",
    "from pyspark.ml import Transformer\n",
    "from pyspark.ml.param.shared import HasInputCol, HasOutputCol, Param, Params, TypeConverters\n",
    "from pyspark.ml.util import DefaultParamsReadable, DefaultParamsWritable  \n",
    "from pyspark.sql.functions import udf, create_map, lit\n",
    "from pyspark.sql.types import ArrayType, StringType\n",
    "from pyspark.sql.window import Window\n",
    "\n",
    "from pyspark.ml.classification import RandomForestClassifier\n",
    "from pyspark.ml.classification import LogisticRegression\n",
    "from pyspark.ml.evaluation import MulticlassClassificationEvaluator"
   ]
  },
  {
   "cell_type": "markdown",
   "metadata": {},
   "source": [
    "# Text analysisf of Amazon product reviews\n",
    "\n",
    "### DS 608 Project\n",
    "#### By Keith Jennings, Ryan Leeson"
   ]
  },
  {
   "cell_type": "markdown",
   "metadata": {},
   "source": [
    "## Introduction\n",
    "\n",
    "#### With presence of social media and online reviews, people's thoughts and opinions travel throughout our digital landscape. However, that still leaves the necessity to understand what it is people are trying to convey. The simplest thing to do is to read the posts that people put only, but with the number of posts that can be sent on a single subject, it is not feasable to expect anyone to read all those posts and understand what people's feelings on a subject might be. That is where data science comes in.Using text analysis and classification algorithms, the posts left by the users of these various online services can be quickly analysed and evaluated to determine how a person fell regarding a subject.\n",
    "\n",
    "#### In this report, we train of multinomial logistic regression model using an Amazon product review dataset. The advantage of using the Amazon review dataset is that it does not only include text-based data, it also includes an evaluation system in the form of a five star rating, where one and two stars show dislike or displeasure, four and five show people like and  enjoy something, and three stars is a neutral position. With review texts and the associated star rating a model can be trained to evaluate a post and classifying it with a star rating to indicate whether the post indicates like or dislike regard the subject of the post."
   ]
  },
  {
   "cell_type": "markdown",
   "metadata": {},
   "source": [
    "## Dataset\n",
    "\n",
    "#### The datset was was compiled by Jianmo Ni, a Ph.D. student from the University of California San Diego. The dataset is hosted on a github repository controlled by Mr. Ni. \n",
    "\n",
    "#### The dataset is stored as 29 seperate Json files. Each file consists of the reviews for each product category. The files vary in size from ~100 MB to the largest file, which are book reviews which is ~7 GB. Overall, all the files combined contain approximately 14 GB of data.\n",
    "\n",
    "#### The data include product reviews taken from 1996 up to the year 2018. The features of the dataset include response variable, 'overall,' which is overall rating of the product on a five point scale. Other features include the 'asin' which is a product identifier, 'image' which is a link to an image of the product, if available. For the reviews, there is the 'reviewText' which is the full review text written by the review author. Other features included are the time the review was made, as a date and as a UNIX timestamp, 'revieTime' and 'unixReviewTime.' There are also the reviewer's name, 'reviewerName,' and ID; 'reviewerID,' the 'summary,' a short text briefly stating the authors thoughts, 'verified' varifying the author of the product made the purchase, and 'vote' summarising whether the review received up or down votes.\n",
    "\n",
    "#### The dataset was pre-cleaned by Mr. Ni. Mr. Ni has versions of the files available through his github repo. The master file, containing all reviews collected by Mr. Ni, includes over 233 million reviews and is approximately 34 GB in size. The dataset used is referred to as a 5-core dataset. The title is defined to indicate that only products with a minimum of five reivews or reviews who have left a minimum of five reviews were included.\n"
   ]
  },
  {
   "cell_type": "markdown",
   "metadata": {},
   "source": [
    "## Methods\n",
    "\n",
    "### File collection\n",
    "#### The code used to download the files from Mr. Ni's gihub page is provided in a different file titled 'batch_program_for_download.ipynb.'\n",
    "\n",
    "\n",
    "#### The download was done through a programmed written as a SLURM job run on the University of Calgary's TALC cluster system. Using one node and 16 cores, the job took 50.3 minutes (3020.565 s) to download all the files."
   ]
  },
  {
   "cell_type": "markdown",
   "metadata": {},
   "source": [
    "### Converting files to parquet"
   ]
  },
  {
   "cell_type": "code",
   "execution_count": null,
   "metadata": {},
   "outputs": [],
   "source": [
    "%%time\n",
    "df_reviews = scq.read.json ('Files/*.json.gz')\n",
    "#   There is a 'Files' folder where all the files were stored.\n",
    "\n",
    "(df_reviews\n",
    " ##########\n",
    " #   Adding a category feature.\n",
    " .withColumn ('filename', input_file_name ())\n",
    " .withColumn ('file_cn', split (col ('filename'), 'Files/').getItem (1))\n",
    " #   This line is dependent on how files were organised\n",
    " .withColumn ('category', lower (split (col ('file_cn'), '_5.json').getItem (0)))\n",
    " ##########\n",
    " .select (['asin', 'overall', 'reviewText', 'reviewTime', 'reviewerID', 'summary', 'unixReviewTime', 'verified', 'category'])\n",
    " .write.parquet ('Files/amazon_reviews.parquet', mode = 'overwrite')\n",
    ")"
   ]
  },
  {
   "cell_type": "markdown",
   "metadata": {},
   "source": [
    "#### The original downloaded files were stored in json format with Gzip compression. Using pyspark the data was read into a spark dataframe and exported as new files in parquet format using snappy compression.\n",
    "\n",
    "#### Using the titles of the files, a new category column was added to the data. During the creation of the parquet files, the category was used to partion the parquets, resulting in files like those originally downloaded.\n",
    "\n",
    "#### A custom schema was not implemented for reading the json files. Two features, 'photo' and 'style,' contained nested structures. These nested structures caused issues when reading the json files. Also, examining multiple files showed the nested compents were different sizes between each file. Because of the issue with the nested schema and because the shema could be inferred, a custom schema was not produced. \n"
   ]
  },
  {
   "cell_type": "code",
   "execution_count": 6,
   "metadata": {},
   "outputs": [],
   "source": [
    "df = scq.read.parquet ('Files/amazon_reviews.parquet').select ('overall', 'reviewText')"
   ]
  },
  {
   "cell_type": "code",
   "execution_count": 7,
   "metadata": {},
   "outputs": [
    {
     "name": "stdout",
     "output_type": "stream",
     "text": [
      "+-------+--------------------+\n",
      "|overall|          reviewText|\n",
      "+-------+--------------------+\n",
      "|    5.0|The King, the Mic...|\n",
      "|    5.0|  The kids loved it!|\n",
      "|    5.0|My students (3 & ...|\n",
      "|    5.0|             LOVE IT|\n",
      "|    5.0|              Great!|\n",
      "+-------+--------------------+\n",
      "only showing top 5 rows\n",
      "\n"
     ]
    }
   ],
   "source": [
    "#   View the imported dataframe\n",
    "\n",
    "df.show (5)"
   ]
  },
  {
   "cell_type": "code",
   "execution_count": 8,
   "metadata": {},
   "outputs": [
    {
     "name": "stdout",
     "output_type": "stream",
     "text": [
      "There are 75257650 entries in the dataset.\n"
     ]
    }
   ],
   "source": [
    "print (f'There are {df.count ()} entries in the dataset.')"
   ]
  },
  {
   "cell_type": "code",
   "execution_count": 13,
   "metadata": {},
   "outputs": [
    {
     "name": "stdout",
     "output_type": "stream",
     "text": [
      "+-------+--------+--------------------+\n",
      "|overall|   count|             percent|\n",
      "+-------+--------+--------------------+\n",
      "|    5.0|48469822|  0.6440517608508902|\n",
      "|    4.0|14146238|  0.1879707644339147|\n",
      "|    3.0| 6307898| 0.08381736607507675|\n",
      "|    2.0| 3068487|  0.0407730908419277|\n",
      "|    1.0| 3265202|0.043386977935133506|\n",
      "|    0.0|       3|3.986305711113754E-8|\n",
      "+-------+--------+--------------------+\n",
      "\n"
     ]
    }
   ],
   "source": [
    "#   Counts for each class and their percentage of the dataset.\n",
    "\n",
    "(df.groupBy ('overall')\n",
    " .count ()\n",
    " .withColumn ('percent', f.col ('count') / f.sum ('count').over (Window.partitionBy ()))\n",
    " .orderBy ('overall', ascending = False)\n",
    " .show ()\n",
    ")"
   ]
  },
  {
   "cell_type": "markdown",
   "metadata": {},
   "source": [
    "### Data cleaning\n",
    "\n",
    "#### The data was pre-cleaned by Mr. Ni, however, more wrangling was performed to further reduce the dataset. First, all duplicate entries were removed. "
   ]
  },
  {
   "cell_type": "code",
   "execution_count": 11,
   "metadata": {},
   "outputs": [
    {
     "name": "stdout",
     "output_type": "stream",
     "text": [
      "After cleaning there are 62454271 entries remaining.\n"
     ]
    }
   ],
   "source": [
    "#   Remove entries with duplicates, oveall < 1, and NA values in 'reviewText'\n",
    "\n",
    "#   There is an unexplained sixth class, 0.0. Because the meaning is unknown it can be removed.\n",
    "#   Because we are only examining the text of the reviews and not any other related data about the \n",
    "#   products or the reviewers, all the duplicates can be removed.\n",
    "#   The text is what is being examined, so nulls in the 'reivewText' column are removed from the dataset.\n",
    "\n",
    "df_cleaned = df.where (df.overall > 0).dropDuplicates ().na.drop (subset = ['reviewText'])\n",
    "\n",
    "print (f'After cleaning there are {df_cleaned.count ()} entries remaining.')"
   ]
  },
  {
   "cell_type": "markdown",
   "metadata": {},
   "source": [
    "#### After cleaning, the dataset consisted of 62454271 product reviews."
   ]
  },
  {
   "cell_type": "code",
   "execution_count": 12,
   "metadata": {},
   "outputs": [
    {
     "name": "stdout",
     "output_type": "stream",
     "text": [
      "+-------+--------+--------------------+\n",
      "|overall|   count|             percent|\n",
      "+-------+--------+--------------------+\n",
      "|    5.0|38853017|  0.6221034426932948|\n",
      "|    4.0|12312315| 0.19714128117835208|\n",
      "|    3.0| 5616059| 0.08992273722961237|\n",
      "|    2.0| 2776926|0.044463348231220244|\n",
      "|    1.0| 2895954|0.046369190667520564|\n",
      "+-------+--------+--------------------+\n",
      "\n"
     ]
    }
   ],
   "source": [
    "#   New count and percent of classes after cleaning.\n",
    "\n",
    "df_counts = (df_cleaned.groupBy ('overall')\n",
    " .count ()\n",
    " .withColumn ('percent', f.col ('count') / f.sum ('count').over (Window.partitionBy ()))\n",
    " .orderBy ('overall', ascending = False)\n",
    ")\n",
    "\n",
    "df_counts.show ()"
   ]
  },
  {
   "cell_type": "code",
   "execution_count": 16,
   "metadata": {},
   "outputs": [
    {
     "data": {
      "image/png": "[encoded data removed]",
      "text/plain": [
       "<Figure size 720x360 with 1 Axes>"
      ]
     },
     "metadata": {
      "needs_background": "light"
     },
     "output_type": "display_data"
    }
   ],
   "source": [
    "import matplotlib.pyplot as plt\n",
    "import pandas as pd\n",
    "import seaborn as sns\n",
    "%matplotlib inline\n",
    "\n",
    "pdf = df_cleaned.sample (False, 0.001).toPandas ()\n",
    "\n",
    "plt.figure (figsize = (10,5))\n",
    "sns.countplot (x = pdf[\"overall\"]).set_title (\"Distribution of star ratings\")\n",
    "#plt.savefig ('amazon_stars.png')\n",
    "plt.show ()"
   ]
  },
  {
   "cell_type": "code",
   "execution_count": null,
   "metadata": {},
   "outputs": [],
   "source": []
  }
 ],
 "metadata": {
  "kernelspec": {
   "display_name": "Python 3",
   "language": "python",
   "name": "python3"
  },
  "language_info": {
   "codemirror_mode": {
    "name": "ipython",
    "version": 3
   },
   "file_extension": ".py",
   "mimetype": "text/x-python",
   "name": "python",
   "nbconvert_exporter": "python",
   "pygments_lexer": "ipython3",
   "version": "3.7.0"
  }
 },
 "nbformat": 4,
 "nbformat_minor": 2
}
