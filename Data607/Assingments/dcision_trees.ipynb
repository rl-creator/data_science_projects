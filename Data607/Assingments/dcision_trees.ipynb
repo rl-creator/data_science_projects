{
 "cells": [
  {
   "cell_type": "markdown",
   "metadata": {},
   "source": [
    "## Assignment 2\n",
    "\n",
    "### Problem 1\n",
    "\n",
    "1. Write a function that, given a data set $(X, y)$, a feature $j$, and a split point $s$, determines its associated MSE.\n",
    "\n",
    "2. Write a function that, given a data set $(X, y)$ and feature $j$ computes the split point $s$ leading to the smallest MSE.\n",
    "\n",
    "3. Write a function that, given a data set $(X, y)$ computes the feature/split point pair $(j, s)$ leading to the smallest MSE.\n",
    "\n",
    "4. Test your functions by computing the first feature/split point pair for a few random training subsets of the diabetes data set using both your function and `DecisionTreeRegressor` from scikit-learn."
   ]
  },
  {
   "cell_type": "code",
   "execution_count": 99,
   "metadata": {},
   "outputs": [],
   "source": [
    "def mse_from_feature_and_split(X, y, j, s):\n",
    "    X_j = X[:,j]   #   Defining feature j from X.\n",
    "    \n",
    "    #   Split y values according to the split of X at s.\n",
    "    y_L = y[X_j <= s]\n",
    "    y_R = y[X_j > s]\n",
    "    \n",
    "    mse = len(y_L) / len(y) * np.mean (np.square (y_L - y_L.mean ())) + len(y_R) / len(y) * np.mean (np.square (y_R - y_R.mean ()))\n",
    "    #   Determine the MSE of the two nodes at split s for feature j.\n",
    "    \n",
    "    return mse\n",
    "\n",
    "\n",
    "def split_from_feature(X, y, j):\n",
    "    X_j = X[:,j]   #   Defining feature j from X.\n",
    "    \n",
    "    ss = np.linspace (min (X_j), max (X_j), num = 100, endpoint = False)\n",
    "    #   Possible split values, s, for feature j.\n",
    "    \n",
    "    mses = []   #   List of MSE values for each split value, s, in ss.\n",
    "    \n",
    "    for s in ss:\n",
    "        mse = mse_from_feature_and_split (X, y, j, s)\n",
    "        #   Calculating the MSE of the possible values of s from ss.\n",
    "        \n",
    "        mses.append (mse)\n",
    "    \n",
    "    s_opt_for_j = ss[np.argmin (mses)]   #   Determining which split value, s, has the smallest MSE.\n",
    "    \n",
    "    return s_opt_for_j, min (mses)\n",
    "    #   mses is being returned because it is needed for the next function.\n",
    "\n",
    "\n",
    "def feature_split_pair(X, y):\n",
    "    mses_by_j = []   #   List of MSE values according to the feature, j.\n",
    "    \n",
    "    ss_by_j = []   #   List of split values for each feature j.\n",
    "    \n",
    "    ###   The shape of X gives the number of rows and the number of columns (number of features) of the \n",
    "    ###   dataset. \n",
    "    \n",
    "    ###   The features of X are labeled according to the column numbers. Since the for loop will loop through\n",
    "    ###   the range 0-N, the values of j and s will be ordered in the lists mses_by_j and ss_by_j according \n",
    "    ###   to the feature label in X. \n",
    "    for j in range (X.shape[1]):\n",
    "        s_opt_for_j, mse_for_s_j = split_from_feature (X, y, j)\n",
    "        \n",
    "        \n",
    "        ss_by_j.append (s_opt_for_j)\n",
    "    \n",
    "            \n",
    "        mses_by_j.append (mse_for_s_j)\n",
    "        \n",
    "#     print(ss_by_j)\n",
    "#     print (mses_by_j)\n",
    "    \n",
    "    j_opt = np.argmin (mses_by_j)   #   find the index of the smallest MSE for the feature number j.\n",
    "    #   Because the order of the entries in mse_by_j align with the order of the features in X, the indexes\n",
    "    #   of the entries correspond to the features, j, of the dataset.\n",
    "    \n",
    "    s_opt = ss_by_j[j_opt]   #   this should work and then we don't need the one above.\n",
    "    \n",
    "    return j_opt, s_opt"
   ]
  },
  {
   "cell_type": "code",
   "execution_count": 100,
   "metadata": {},
   "outputs": [],
   "source": [
    "from sklearn.tree import DecisionTreeRegressor\n",
    "from sklearn.model_selection import train_test_split\n",
    "from sklearn.datasets import load_diabetes\n",
    "from sklearn.metrics import mean_squared_error\n",
    "import pandas as pd"
   ]
  },
  {
   "cell_type": "code",
   "execution_count": 101,
   "metadata": {},
   "outputs": [],
   "source": [
    "diabetes_data = load_diabetes ()\n",
    "\n",
    "dia_y = diabetes_data.target\n",
    "dia_X = diabetes_data.data"
   ]
  },
  {
   "cell_type": "code",
   "execution_count": 102,
   "metadata": {},
   "outputs": [
    {
     "data": {
      "text/html": [
       "<div>\n",
       "<style scoped>\n",
       "    .dataframe tbody tr th:only-of-type {\n",
       "        vertical-align: middle;\n",
       "    }\n",
       "\n",
       "    .dataframe tbody tr th {\n",
       "        vertical-align: top;\n",
       "    }\n",
       "\n",
       "    .dataframe thead th {\n",
       "        text-align: right;\n",
       "    }\n",
       "</style>\n",
       "<table border=\"1\" class=\"dataframe\">\n",
       "  <thead>\n",
       "    <tr style=\"text-align: right;\">\n",
       "      <th></th>\n",
       "      <th>Feature, j</th>\n",
       "      <th>Split, s</th>\n",
       "      <th>Feature, j - skl</th>\n",
       "      <th>Split, s - skl</th>\n",
       "    </tr>\n",
       "  </thead>\n",
       "  <tbody>\n",
       "    <tr>\n",
       "      <td>0</td>\n",
       "      <td>8</td>\n",
       "      <td>-0.004420</td>\n",
       "      <td>8</td>\n",
       "      <td>-0.003762</td>\n",
       "    </tr>\n",
       "    <tr>\n",
       "      <td>1</td>\n",
       "      <td>8</td>\n",
       "      <td>-0.004040</td>\n",
       "      <td>8</td>\n",
       "      <td>-0.003762</td>\n",
       "    </tr>\n",
       "    <tr>\n",
       "      <td>2</td>\n",
       "      <td>8</td>\n",
       "      <td>-0.001443</td>\n",
       "      <td>8</td>\n",
       "      <td>-0.000169</td>\n",
       "    </tr>\n",
       "    <tr>\n",
       "      <td>3</td>\n",
       "      <td>8</td>\n",
       "      <td>-0.004040</td>\n",
       "      <td>8</td>\n",
       "      <td>-0.003762</td>\n",
       "    </tr>\n",
       "    <tr>\n",
       "      <td>4</td>\n",
       "      <td>2</td>\n",
       "      <td>-0.006810</td>\n",
       "      <td>2</td>\n",
       "      <td>-0.006745</td>\n",
       "    </tr>\n",
       "    <tr>\n",
       "      <td>5</td>\n",
       "      <td>2</td>\n",
       "      <td>0.008840</td>\n",
       "      <td>2</td>\n",
       "      <td>0.009422</td>\n",
       "    </tr>\n",
       "    <tr>\n",
       "      <td>6</td>\n",
       "      <td>8</td>\n",
       "      <td>0.020683</td>\n",
       "      <td>8</td>\n",
       "      <td>0.016671</td>\n",
       "    </tr>\n",
       "    <tr>\n",
       "      <td>7</td>\n",
       "      <td>8</td>\n",
       "      <td>-0.001443</td>\n",
       "      <td>8</td>\n",
       "      <td>-0.000169</td>\n",
       "    </tr>\n",
       "    <tr>\n",
       "      <td>8</td>\n",
       "      <td>8</td>\n",
       "      <td>-0.004040</td>\n",
       "      <td>8</td>\n",
       "      <td>-0.003762</td>\n",
       "    </tr>\n",
       "    <tr>\n",
       "      <td>9</td>\n",
       "      <td>2</td>\n",
       "      <td>0.007665</td>\n",
       "      <td>2</td>\n",
       "      <td>0.009422</td>\n",
       "    </tr>\n",
       "  </tbody>\n",
       "</table>\n",
       "</div>"
      ],
      "text/plain": [
       "   Feature, j  Split, s  Feature, j - skl  Split, s - skl\n",
       "0           8 -0.004420                 8       -0.003762\n",
       "1           8 -0.004040                 8       -0.003762\n",
       "2           8 -0.001443                 8       -0.000169\n",
       "3           8 -0.004040                 8       -0.003762\n",
       "4           2 -0.006810                 2       -0.006745\n",
       "5           2  0.008840                 2        0.009422\n",
       "6           8  0.020683                 8        0.016671\n",
       "7           8 -0.001443                 8       -0.000169\n",
       "8           8 -0.004040                 8       -0.003762\n",
       "9           2  0.007665                 2        0.009422"
      ]
     },
     "metadata": {},
     "output_type": "display_data"
    }
   ],
   "source": [
    "predictions = []   #   List of the feature/split point pairs (j, s), for the function created above and \n",
    "                   #   the DecisionTreeRegressor function from sklearn.\n",
    "\n",
    "\n",
    "for i in range (10):   #   10 tests of the created and sklearn functions.\n",
    "    dia_X_tr, dia_X_te, dia_y_tr, dia_y_te = train_test_split (dia_X, dia_y, test_size = 0.2)\n",
    "    \n",
    "    #   Predicted featrue and split point from the function created above.\n",
    "    pre_j, pre_s = feature_split_pair (dia_X_tr, dia_y_tr)\n",
    "    \n",
    "    #   Prediction from the sklearn decision tree function.\n",
    "    M1 = DecisionTreeRegressor (max_depth = 1)   #   Using max_depth = 1 gives the split from the root node.\n",
    "    M1.fit (dia_X_tr, dia_y_tr)\n",
    "    \n",
    "    skl_pre_j = M1.tree_.feature[0]   #   Gives the the feature for the split\n",
    "    skl_pre_s = M1.tree_.threshold[0]   #   Gives the split value.\n",
    "    \n",
    "    predictions.append ((pre_j, pre_s, skl_pre_j, skl_pre_s))\n",
    "    \n",
    "\n",
    "summary = pd.DataFrame (predictions, columns = ['Feature, j', 'Split, s', 'Feature, j - skl', 'Split, s - skl'])\n",
    "display (summary)"
   ]
  },
  {
   "cell_type": "markdown",
   "metadata": {},
   "source": [
    "The table compares the predicted feature/split point pairs of the functions created above and the function from sklearn. The results of 10 trials on ten random training sets show that both models predicted the same feature for spliting for each trial. The split values for each model were also close, but not exact. This could be the result of how split values were generated. For the fucntion created above, 100 equally spaced values of s were generated between X_j min and X_j max, and the s with the smallest calculated MSE was returned. Sklearn may have a different method for determining values of s."
   ]
  },
  {
   "cell_type": "markdown",
   "metadata": {},
   "source": [
    "### Problem 2\n",
    "\n",
    "The decision tree produced by fitting an instance `M` of `DecisionTreeRegressor` or `DecisionTreeClassifier` to data is stored in `M.tree_`. `M.tree_`, an instance of scikit-learn's internal `Tree` class (see below).\n",
    "\n",
    "Write a function that takes `M.tree_` as input and return a corresponding `graphviz` graph `G`.\n",
    "Label each node with its index, the feature on which it's split (for interior nodes), the splitting threshold (for interior nodes), and the regression/classification value for each leaf node.\n",
    "\n",
    "Demonstrate your function by plotting a regression tree for the diabetes data set and a classification tree for the breast cancer data set. Set a reasonable `max_depth` so that your tree fits on the screen."
   ]
  },
  {
   "cell_type": "code",
   "execution_count": 103,
   "metadata": {},
   "outputs": [],
   "source": [
    "from graphviz import Graph\n",
    "\n",
    "def to_graphviz(tree):\n",
    "    G = Graph()\n",
    "    for i in range(tree.node_count):\n",
    "        if tree.feature[i] == -2:\n",
    "            G.attr ('node', style = 'filled', color = 'green')\n",
    "            G.node (str (i), label = f\" index: {i} \\n X[{tree.feature[i]}] \\n split: {tree.threshold[i]:.5f} \\n value: {tree.value[i][0][0]:.2f}\")\n",
    "        elif tree.feature[i] != -2:\n",
    "            G.attr ('node', style = '', color = 'black')\n",
    "            G.node (str (i), label = f\" index: {i} \\n X[{tree.feature[i]}] \\n split: {tree.threshold[i]:.5f} \\n value: {tree.value[i][0][0]:.2f}\")\n",
    "    for i in range(tree.node_count):\n",
    "        if tree.children_left[i] == -1 or tree.children_right[i] == -1:\n",
    "            continue\n",
    "        else:\n",
    "            G.edge (str (i), str (tree.children_left[i]))\n",
    "            G.edge (str (i), str (tree.children_right[i]))\n",
    "    return G"
   ]
  },
  {
   "cell_type": "code",
   "execution_count": 104,
   "metadata": {},
   "outputs": [],
   "source": [
    "from sklearn.tree import DecisionTreeRegressor, DecisionTreeClassifier\n",
    "from sklearn.datasets import load_diabetes\n",
    "from sklearn.datasets import load_breast_cancer"
   ]
  },
  {
   "cell_type": "markdown",
   "metadata": {},
   "source": [
    "### Regression tree for diabetes data"
   ]
  },
  {
   "cell_type": "code",
   "execution_count": 105,
   "metadata": {},
   "outputs": [],
   "source": [
    "diabetes_data = load_diabetes ()\n",
    "\n",
    "dia_y = diabetes_data.target\n",
    "dia_X = diabetes_data.data\n",
    "\n",
    "dia_X_tr, dia_X_te, dia_y_tr, dia_y_te = train_test_split (dia_X, dia_y, test_size = 0.2)"
   ]
  },
  {
   "cell_type": "code",
   "execution_count": 106,
   "metadata": {},
   "outputs": [
    {
     "data": {
      "text/plain": [
       "DecisionTreeRegressor(criterion='mse', max_depth=2, max_features=None,\n",
       "                      max_leaf_nodes=None, min_impurity_decrease=0.0,\n",
       "                      min_impurity_split=None, min_samples_leaf=1,\n",
       "                      min_samples_split=2, min_weight_fraction_leaf=0.0,\n",
       "                      presort=False, random_state=None, splitter='best')"
      ]
     },
     "execution_count": 106,
     "metadata": {},
     "output_type": "execute_result"
    }
   ],
   "source": [
    "MR = DecisionTreeRegressor (max_depth = 2)\n",
    "MR.fit (dia_X_tr, dia_y_tr)"
   ]
  },
  {
   "cell_type": "code",
   "execution_count": 107,
   "metadata": {},
   "outputs": [
    {
     "data": {
      "image/svg+xml": [
       "<?xml version=\"1.0\" encoding=\"UTF-8\" standalone=\"no\"?>\n",
       "<!DOCTYPE svg PUBLIC \"-//W3C//DTD SVG 1.1//EN\"\n",
       " \"http://www.w3.org/Graphics/SVG/1.1/DTD/svg11.dtd\">\n",
       "<!-- Generated by graphviz version 2.40.1 (20161225.0304)\n",
       " -->\n",
       "<!-- Title: %3 Pages: 1 -->\n",
       "<svg width=\"654pt\" height=\"368pt\"\n",
       " viewBox=\"0.00 0.00 654.49 368.50\" xmlns=\"http://www.w3.org/2000/svg\" xmlns:xlink=\"http://www.w3.org/1999/xlink\">\n",
       "<g id=\"graph0\" class=\"graph\" transform=\"scale(1 1) rotate(0) translate(4 364.4996)\">\n",
       "<title>%3</title>\n",
       "<polygon fill=\"#ffffff\" stroke=\"transparent\" points=\"-4,4 -4,-364.4996 650.4924,-364.4996 650.4924,4 -4,4\"/>\n",
       "<!-- 0 -->\n",
       "<g id=\"node1\" class=\"node\">\n",
       "<title>0</title>\n",
       "<ellipse fill=\"none\" stroke=\"#000000\" cx=\"323.2462\" cy=\"-312.4163\" rx=\"74.4932\" ry=\"48.1667\"/>\n",
       "<text text-anchor=\"middle\" x=\"323.2462\" y=\"-331.2163\" font-family=\"Times,serif\" font-size=\"14.00\" fill=\"#000000\"> index: 0 </text>\n",
       "<text text-anchor=\"middle\" x=\"323.2462\" y=\"-316.2163\" font-family=\"Times,serif\" font-size=\"14.00\" fill=\"#000000\"> X[8] </text>\n",
       "<text text-anchor=\"middle\" x=\"323.2462\" y=\"-301.2163\" font-family=\"Times,serif\" font-size=\"14.00\" fill=\"#000000\"> split: &#45;0.00376 </text>\n",
       "<text text-anchor=\"middle\" x=\"323.2462\" y=\"-286.2163\" font-family=\"Times,serif\" font-size=\"14.00\" fill=\"#000000\"> value: 153.56</text>\n",
       "</g>\n",
       "<!-- 1 -->\n",
       "<g id=\"node2\" class=\"node\">\n",
       "<title>1</title>\n",
       "<ellipse fill=\"none\" stroke=\"#000000\" cx=\"240.2462\" cy=\"-180.2498\" rx=\"71.3357\" ry=\"48.1667\"/>\n",
       "<text text-anchor=\"middle\" x=\"240.2462\" y=\"-199.0498\" font-family=\"Times,serif\" font-size=\"14.00\" fill=\"#000000\"> index: 1 </text>\n",
       "<text text-anchor=\"middle\" x=\"240.2462\" y=\"-184.0498\" font-family=\"Times,serif\" font-size=\"14.00\" fill=\"#000000\"> X[2] </text>\n",
       "<text text-anchor=\"middle\" x=\"240.2462\" y=\"-169.0498\" font-family=\"Times,serif\" font-size=\"14.00\" fill=\"#000000\"> split: 0.00296 </text>\n",
       "<text text-anchor=\"middle\" x=\"240.2462\" y=\"-154.0498\" font-family=\"Times,serif\" font-size=\"14.00\" fill=\"#000000\"> value: 108.20</text>\n",
       "</g>\n",
       "<!-- 0&#45;&#45;1 -->\n",
       "<g id=\"edge1\" class=\"edge\">\n",
       "<title>0&#45;&#45;1</title>\n",
       "<path fill=\"none\" stroke=\"#000000\" d=\"M295.1462,-267.6708C286.4928,-253.8914 276.9687,-238.7255 268.3173,-224.9493\"/>\n",
       "</g>\n",
       "<!-- 4 -->\n",
       "<g id=\"node5\" class=\"node\">\n",
       "<title>4</title>\n",
       "<ellipse fill=\"none\" stroke=\"#000000\" cx=\"406.2462\" cy=\"-180.2498\" rx=\"71.3357\" ry=\"48.1667\"/>\n",
       "<text text-anchor=\"middle\" x=\"406.2462\" y=\"-199.0498\" font-family=\"Times,serif\" font-size=\"14.00\" fill=\"#000000\"> index: 4 </text>\n",
       "<text text-anchor=\"middle\" x=\"406.2462\" y=\"-184.0498\" font-family=\"Times,serif\" font-size=\"14.00\" fill=\"#000000\"> X[2] </text>\n",
       "<text text-anchor=\"middle\" x=\"406.2462\" y=\"-169.0498\" font-family=\"Times,serif\" font-size=\"14.00\" fill=\"#000000\"> split: 0.04715 </text>\n",
       "<text text-anchor=\"middle\" x=\"406.2462\" y=\"-154.0498\" font-family=\"Times,serif\" font-size=\"14.00\" fill=\"#000000\"> value: 197.15</text>\n",
       "</g>\n",
       "<!-- 0&#45;&#45;4 -->\n",
       "<g id=\"edge2\" class=\"edge\">\n",
       "<title>0&#45;&#45;4</title>\n",
       "<path fill=\"none\" stroke=\"#000000\" d=\"M351.3462,-267.6708C359.9996,-253.8914 369.5237,-238.7255 378.1751,-224.9493\"/>\n",
       "</g>\n",
       "<!-- 2 -->\n",
       "<g id=\"node3\" class=\"node\">\n",
       "<title>2</title>\n",
       "<ellipse fill=\"#00ff00\" stroke=\"#00ff00\" cx=\"74.2462\" cy=\"-48.0833\" rx=\"74.4932\" ry=\"48.1667\"/>\n",
       "<text text-anchor=\"middle\" x=\"74.2462\" y=\"-66.8833\" font-family=\"Times,serif\" font-size=\"14.00\" fill=\"#000000\"> index: 2 </text>\n",
       "<text text-anchor=\"middle\" x=\"74.2462\" y=\"-51.8833\" font-family=\"Times,serif\" font-size=\"14.00\" fill=\"#000000\"> X[&#45;2] </text>\n",
       "<text text-anchor=\"middle\" x=\"74.2462\" y=\"-36.8833\" font-family=\"Times,serif\" font-size=\"14.00\" fill=\"#000000\"> split: &#45;2.00000 </text>\n",
       "<text text-anchor=\"middle\" x=\"74.2462\" y=\"-21.8833\" font-family=\"Times,serif\" font-size=\"14.00\" fill=\"#000000\"> value: 96.42</text>\n",
       "</g>\n",
       "<!-- 1&#45;&#45;2 -->\n",
       "<g id=\"edge3\" class=\"edge\">\n",
       "<title>1&#45;&#45;2</title>\n",
       "<path fill=\"none\" stroke=\"#000000\" d=\"M194.006,-143.434C171.2697,-125.3318 143.9216,-103.5577 121.1028,-85.3897\"/>\n",
       "</g>\n",
       "<!-- 3 -->\n",
       "<g id=\"node4\" class=\"node\">\n",
       "<title>3</title>\n",
       "<ellipse fill=\"#00ff00\" stroke=\"#00ff00\" cx=\"240.2462\" cy=\"-48.0833\" rx=\"74.4932\" ry=\"48.1667\"/>\n",
       "<text text-anchor=\"middle\" x=\"240.2462\" y=\"-66.8833\" font-family=\"Times,serif\" font-size=\"14.00\" fill=\"#000000\"> index: 3 </text>\n",
       "<text text-anchor=\"middle\" x=\"240.2462\" y=\"-51.8833\" font-family=\"Times,serif\" font-size=\"14.00\" fill=\"#000000\"> X[&#45;2] </text>\n",
       "<text text-anchor=\"middle\" x=\"240.2462\" y=\"-36.8833\" font-family=\"Times,serif\" font-size=\"14.00\" fill=\"#000000\"> split: &#45;2.00000 </text>\n",
       "<text text-anchor=\"middle\" x=\"240.2462\" y=\"-21.8833\" font-family=\"Times,serif\" font-size=\"14.00\" fill=\"#000000\"> value: 148.67</text>\n",
       "</g>\n",
       "<!-- 1&#45;&#45;3 -->\n",
       "<g id=\"edge4\" class=\"edge\">\n",
       "<title>1&#45;&#45;3</title>\n",
       "<path fill=\"none\" stroke=\"#000000\" d=\"M240.2462,-132.1608C240.2462,-120.4991 240.2462,-108.0282 240.2462,-96.358\"/>\n",
       "</g>\n",
       "<!-- 5 -->\n",
       "<g id=\"node6\" class=\"node\">\n",
       "<title>5</title>\n",
       "<ellipse fill=\"#00ff00\" stroke=\"#00ff00\" cx=\"406.2462\" cy=\"-48.0833\" rx=\"74.4932\" ry=\"48.1667\"/>\n",
       "<text text-anchor=\"middle\" x=\"406.2462\" y=\"-66.8833\" font-family=\"Times,serif\" font-size=\"14.00\" fill=\"#000000\"> index: 5 </text>\n",
       "<text text-anchor=\"middle\" x=\"406.2462\" y=\"-51.8833\" font-family=\"Times,serif\" font-size=\"14.00\" fill=\"#000000\"> X[&#45;2] </text>\n",
       "<text text-anchor=\"middle\" x=\"406.2462\" y=\"-36.8833\" font-family=\"Times,serif\" font-size=\"14.00\" fill=\"#000000\"> split: &#45;2.00000 </text>\n",
       "<text text-anchor=\"middle\" x=\"406.2462\" y=\"-21.8833\" font-family=\"Times,serif\" font-size=\"14.00\" fill=\"#000000\"> value: 175.27</text>\n",
       "</g>\n",
       "<!-- 4&#45;&#45;5 -->\n",
       "<g id=\"edge5\" class=\"edge\">\n",
       "<title>4&#45;&#45;5</title>\n",
       "<path fill=\"none\" stroke=\"#000000\" d=\"M406.2462,-132.1608C406.2462,-120.4991 406.2462,-108.0282 406.2462,-96.358\"/>\n",
       "</g>\n",
       "<!-- 6 -->\n",
       "<g id=\"node7\" class=\"node\">\n",
       "<title>6</title>\n",
       "<ellipse fill=\"#00ff00\" stroke=\"#00ff00\" cx=\"572.2462\" cy=\"-48.0833\" rx=\"74.4932\" ry=\"48.1667\"/>\n",
       "<text text-anchor=\"middle\" x=\"572.2462\" y=\"-66.8833\" font-family=\"Times,serif\" font-size=\"14.00\" fill=\"#000000\"> index: 6 </text>\n",
       "<text text-anchor=\"middle\" x=\"572.2462\" y=\"-51.8833\" font-family=\"Times,serif\" font-size=\"14.00\" fill=\"#000000\"> X[&#45;2] </text>\n",
       "<text text-anchor=\"middle\" x=\"572.2462\" y=\"-36.8833\" font-family=\"Times,serif\" font-size=\"14.00\" fill=\"#000000\"> split: &#45;2.00000 </text>\n",
       "<text text-anchor=\"middle\" x=\"572.2462\" y=\"-21.8833\" font-family=\"Times,serif\" font-size=\"14.00\" fill=\"#000000\"> value: 251.00</text>\n",
       "</g>\n",
       "<!-- 4&#45;&#45;6 -->\n",
       "<g id=\"edge6\" class=\"edge\">\n",
       "<title>4&#45;&#45;6</title>\n",
       "<path fill=\"none\" stroke=\"#000000\" d=\"M452.4865,-143.434C475.2228,-125.3318 502.5709,-103.5577 525.3896,-85.3897\"/>\n",
       "</g>\n",
       "</g>\n",
       "</svg>\n"
      ],
      "text/plain": [
       "<graphviz.dot.Graph at 0x1a20760490>"
      ]
     },
     "execution_count": 107,
     "metadata": {},
     "output_type": "execute_result"
    }
   ],
   "source": [
    "to_graphviz (MR.tree_)"
   ]
  },
  {
   "cell_type": "markdown",
   "metadata": {},
   "source": [
    "### Classification tree for breast cancer data"
   ]
  },
  {
   "cell_type": "code",
   "execution_count": 108,
   "metadata": {},
   "outputs": [],
   "source": [
    "bc_data = load_breast_cancer ()\n",
    "\n",
    "bc_y = bc_data.target\n",
    "bc_X = bc_data.data\n",
    "\n",
    "bc_X_tr, bc_X_te, bc_y_tr, bc_y_te = train_test_split (bc_X, bc_y, test_size = 0.2)"
   ]
  },
  {
   "cell_type": "code",
   "execution_count": 109,
   "metadata": {},
   "outputs": [
    {
     "data": {
      "text/plain": [
       "DecisionTreeClassifier(class_weight=None, criterion='gini', max_depth=2,\n",
       "                       max_features=None, max_leaf_nodes=None,\n",
       "                       min_impurity_decrease=0.0, min_impurity_split=None,\n",
       "                       min_samples_leaf=1, min_samples_split=2,\n",
       "                       min_weight_fraction_leaf=0.0, presort=False,\n",
       "                       random_state=None, splitter='best')"
      ]
     },
     "execution_count": 109,
     "metadata": {},
     "output_type": "execute_result"
    }
   ],
   "source": [
    "MC = DecisionTreeClassifier (max_depth = 2)\n",
    "MC.fit (bc_X_tr, bc_y_tr)"
   ]
  },
  {
   "cell_type": "code",
   "execution_count": 110,
   "metadata": {},
   "outputs": [
    {
     "data": {
      "image/svg+xml": [
       "<?xml version=\"1.0\" encoding=\"UTF-8\" standalone=\"no\"?>\n",
       "<!DOCTYPE svg PUBLIC \"-//W3C//DTD SVG 1.1//EN\"\n",
       " \"http://www.w3.org/Graphics/SVG/1.1/DTD/svg11.dtd\">\n",
       "<!-- Generated by graphviz version 2.40.1 (20161225.0304)\n",
       " -->\n",
       "<!-- Title: %3 Pages: 1 -->\n",
       "<svg width=\"661pt\" height=\"368pt\"\n",
       " viewBox=\"0.00 0.00 661.49 368.50\" xmlns=\"http://www.w3.org/2000/svg\" xmlns:xlink=\"http://www.w3.org/1999/xlink\">\n",
       "<g id=\"graph0\" class=\"graph\" transform=\"scale(1 1) rotate(0) translate(4 364.4996)\">\n",
       "<title>%3</title>\n",
       "<polygon fill=\"#ffffff\" stroke=\"transparent\" points=\"-4,4 -4,-364.4996 657.4924,-364.4996 657.4924,4 -4,4\"/>\n",
       "<!-- 0 -->\n",
       "<g id=\"node1\" class=\"node\">\n",
       "<title>0</title>\n",
       "<ellipse fill=\"none\" stroke=\"#000000\" cx=\"326.2462\" cy=\"-312.4163\" rx=\"71.3357\" ry=\"48.1667\"/>\n",
       "<text text-anchor=\"middle\" x=\"326.2462\" y=\"-331.2163\" font-family=\"Times,serif\" font-size=\"14.00\" fill=\"#000000\"> index: 0 </text>\n",
       "<text text-anchor=\"middle\" x=\"326.2462\" y=\"-316.2163\" font-family=\"Times,serif\" font-size=\"14.00\" fill=\"#000000\"> X[27] </text>\n",
       "<text text-anchor=\"middle\" x=\"326.2462\" y=\"-301.2163\" font-family=\"Times,serif\" font-size=\"14.00\" fill=\"#000000\"> split: 0.14545 </text>\n",
       "<text text-anchor=\"middle\" x=\"326.2462\" y=\"-286.2163\" font-family=\"Times,serif\" font-size=\"14.00\" fill=\"#000000\"> value: 160.00</text>\n",
       "</g>\n",
       "<!-- 1 -->\n",
       "<g id=\"node2\" class=\"node\">\n",
       "<title>1</title>\n",
       "<ellipse fill=\"none\" stroke=\"#000000\" cx=\"236.2462\" cy=\"-180.2498\" rx=\"81.135\" ry=\"48.1667\"/>\n",
       "<text text-anchor=\"middle\" x=\"236.2462\" y=\"-199.0498\" font-family=\"Times,serif\" font-size=\"14.00\" fill=\"#000000\"> index: 1 </text>\n",
       "<text text-anchor=\"middle\" x=\"236.2462\" y=\"-184.0498\" font-family=\"Times,serif\" font-size=\"14.00\" fill=\"#000000\"> X[23] </text>\n",
       "<text text-anchor=\"middle\" x=\"236.2462\" y=\"-169.0498\" font-family=\"Times,serif\" font-size=\"14.00\" fill=\"#000000\"> split: 957.45001 </text>\n",
       "<text text-anchor=\"middle\" x=\"236.2462\" y=\"-154.0498\" font-family=\"Times,serif\" font-size=\"14.00\" fill=\"#000000\"> value: 26.00</text>\n",
       "</g>\n",
       "<!-- 0&#45;&#45;1 -->\n",
       "<g id=\"edge1\" class=\"edge\">\n",
       "<title>0&#45;&#45;1</title>\n",
       "<path fill=\"none\" stroke=\"#000000\" d=\"M296.2775,-268.4068C286.7664,-254.4396 276.2432,-238.9861 266.6985,-224.9694\"/>\n",
       "</g>\n",
       "<!-- 4 -->\n",
       "<g id=\"node5\" class=\"node\">\n",
       "<title>4</title>\n",
       "<ellipse fill=\"none\" stroke=\"#000000\" cx=\"417.2462\" cy=\"-180.2498\" rx=\"81.135\" ry=\"48.1667\"/>\n",
       "<text text-anchor=\"middle\" x=\"417.2462\" y=\"-199.0498\" font-family=\"Times,serif\" font-size=\"14.00\" fill=\"#000000\"> index: 4 </text>\n",
       "<text text-anchor=\"middle\" x=\"417.2462\" y=\"-184.0498\" font-family=\"Times,serif\" font-size=\"14.00\" fill=\"#000000\"> X[23] </text>\n",
       "<text text-anchor=\"middle\" x=\"417.2462\" y=\"-169.0498\" font-family=\"Times,serif\" font-size=\"14.00\" fill=\"#000000\"> split: 724.14999 </text>\n",
       "<text text-anchor=\"middle\" x=\"417.2462\" y=\"-154.0498\" font-family=\"Times,serif\" font-size=\"14.00\" fill=\"#000000\"> value: 134.00</text>\n",
       "</g>\n",
       "<!-- 0&#45;&#45;4 -->\n",
       "<g id=\"edge2\" class=\"edge\">\n",
       "<title>0&#45;&#45;4</title>\n",
       "<path fill=\"none\" stroke=\"#000000\" d=\"M356.2952,-268.7738C365.9245,-254.7885 376.6013,-239.2815 386.2939,-225.2043\"/>\n",
       "</g>\n",
       "<!-- 2 -->\n",
       "<g id=\"node3\" class=\"node\">\n",
       "<title>2</title>\n",
       "<ellipse fill=\"#00ff00\" stroke=\"#00ff00\" cx=\"74.2462\" cy=\"-48.0833\" rx=\"74.4932\" ry=\"48.1667\"/>\n",
       "<text text-anchor=\"middle\" x=\"74.2462\" y=\"-66.8833\" font-family=\"Times,serif\" font-size=\"14.00\" fill=\"#000000\"> index: 2 </text>\n",
       "<text text-anchor=\"middle\" x=\"74.2462\" y=\"-51.8833\" font-family=\"Times,serif\" font-size=\"14.00\" fill=\"#000000\"> X[&#45;2] </text>\n",
       "<text text-anchor=\"middle\" x=\"74.2462\" y=\"-36.8833\" font-family=\"Times,serif\" font-size=\"14.00\" fill=\"#000000\"> split: &#45;2.00000 </text>\n",
       "<text text-anchor=\"middle\" x=\"74.2462\" y=\"-21.8833\" font-family=\"Times,serif\" font-size=\"14.00\" fill=\"#000000\"> value: 10.00</text>\n",
       "</g>\n",
       "<!-- 1&#45;&#45;2 -->\n",
       "<g id=\"edge3\" class=\"edge\">\n",
       "<title>1&#45;&#45;2</title>\n",
       "<path fill=\"none\" stroke=\"#000000\" d=\"M188.5171,-141.3103C167.0507,-123.7971 141.811,-103.2055 120.5198,-85.8353\"/>\n",
       "</g>\n",
       "<!-- 3 -->\n",
       "<g id=\"node4\" class=\"node\">\n",
       "<title>3</title>\n",
       "<ellipse fill=\"#00ff00\" stroke=\"#00ff00\" cx=\"240.2462\" cy=\"-48.0833\" rx=\"74.4932\" ry=\"48.1667\"/>\n",
       "<text text-anchor=\"middle\" x=\"240.2462\" y=\"-66.8833\" font-family=\"Times,serif\" font-size=\"14.00\" fill=\"#000000\"> index: 3 </text>\n",
       "<text text-anchor=\"middle\" x=\"240.2462\" y=\"-51.8833\" font-family=\"Times,serif\" font-size=\"14.00\" fill=\"#000000\"> X[&#45;2] </text>\n",
       "<text text-anchor=\"middle\" x=\"240.2462\" y=\"-36.8833\" font-family=\"Times,serif\" font-size=\"14.00\" fill=\"#000000\"> split: &#45;2.00000 </text>\n",
       "<text text-anchor=\"middle\" x=\"240.2462\" y=\"-21.8833\" font-family=\"Times,serif\" font-size=\"14.00\" fill=\"#000000\"> value: 16.00</text>\n",
       "</g>\n",
       "<!-- 1&#45;&#45;3 -->\n",
       "<g id=\"edge4\" class=\"edge\">\n",
       "<title>1&#45;&#45;3</title>\n",
       "<path fill=\"none\" stroke=\"#000000\" d=\"M237.7016,-132.1608C238.0546,-120.4991 238.432,-108.0282 238.7852,-96.358\"/>\n",
       "</g>\n",
       "<!-- 5 -->\n",
       "<g id=\"node6\" class=\"node\">\n",
       "<title>5</title>\n",
       "<ellipse fill=\"#00ff00\" stroke=\"#00ff00\" cx=\"413.2462\" cy=\"-48.0833\" rx=\"74.4932\" ry=\"48.1667\"/>\n",
       "<text text-anchor=\"middle\" x=\"413.2462\" y=\"-66.8833\" font-family=\"Times,serif\" font-size=\"14.00\" fill=\"#000000\"> index: 5 </text>\n",
       "<text text-anchor=\"middle\" x=\"413.2462\" y=\"-51.8833\" font-family=\"Times,serif\" font-size=\"14.00\" fill=\"#000000\"> X[&#45;2] </text>\n",
       "<text text-anchor=\"middle\" x=\"413.2462\" y=\"-36.8833\" font-family=\"Times,serif\" font-size=\"14.00\" fill=\"#000000\"> split: &#45;2.00000 </text>\n",
       "<text text-anchor=\"middle\" x=\"413.2462\" y=\"-21.8833\" font-family=\"Times,serif\" font-size=\"14.00\" fill=\"#000000\"> value: 2.00</text>\n",
       "</g>\n",
       "<!-- 4&#45;&#45;5 -->\n",
       "<g id=\"edge5\" class=\"edge\">\n",
       "<title>4&#45;&#45;5</title>\n",
       "<path fill=\"none\" stroke=\"#000000\" d=\"M415.7908,-132.1608C415.4379,-120.4991 415.0604,-108.0282 414.7072,-96.358\"/>\n",
       "</g>\n",
       "<!-- 6 -->\n",
       "<g id=\"node7\" class=\"node\">\n",
       "<title>6</title>\n",
       "<ellipse fill=\"#00ff00\" stroke=\"#00ff00\" cx=\"579.2462\" cy=\"-48.0833\" rx=\"74.4932\" ry=\"48.1667\"/>\n",
       "<text text-anchor=\"middle\" x=\"579.2462\" y=\"-66.8833\" font-family=\"Times,serif\" font-size=\"14.00\" fill=\"#000000\"> index: 6 </text>\n",
       "<text text-anchor=\"middle\" x=\"579.2462\" y=\"-51.8833\" font-family=\"Times,serif\" font-size=\"14.00\" fill=\"#000000\"> X[&#45;2] </text>\n",
       "<text text-anchor=\"middle\" x=\"579.2462\" y=\"-36.8833\" font-family=\"Times,serif\" font-size=\"14.00\" fill=\"#000000\"> split: &#45;2.00000 </text>\n",
       "<text text-anchor=\"middle\" x=\"579.2462\" y=\"-21.8833\" font-family=\"Times,serif\" font-size=\"14.00\" fill=\"#000000\"> value: 132.00</text>\n",
       "</g>\n",
       "<!-- 4&#45;&#45;6 -->\n",
       "<g id=\"edge6\" class=\"edge\">\n",
       "<title>4&#45;&#45;6</title>\n",
       "<path fill=\"none\" stroke=\"#000000\" d=\"M464.9754,-141.3103C486.4417,-123.7971 511.6815,-103.2055 532.9726,-85.8353\"/>\n",
       "</g>\n",
       "</g>\n",
       "</svg>\n"
      ],
      "text/plain": [
       "<graphviz.dot.Graph at 0x1a20742e10>"
      ]
     },
     "execution_count": 110,
     "metadata": {},
     "output_type": "execute_result"
    }
   ],
   "source": [
    "to_graphviz (MC.tree_)"
   ]
  },
  {
   "cell_type": "markdown",
   "metadata": {},
   "source": [
    "### Optional Bonus Problem\n",
    "\n",
    "Write a function that takes as input `M.tree_` and returns the feature importances. (You'll have to look up the precise formula for this.)"
   ]
  },
  {
   "cell_type": "markdown",
   "metadata": {},
   "source": [
    "The equations for the calculations was found on \n",
    "https://towardsdatascience.com/the-mathematics-of-decision-trees-random-forest-and-feature-importance-in-scikit-learn-and-spark-f2861df67e3"
   ]
  },
  {
   "cell_type": "code",
   "execution_count": 111,
   "metadata": {},
   "outputs": [],
   "source": [
    "def feature_importance (tree):\n",
    "    \n",
    "    w = tree.weighted_n_node_samples   #   the weighted number of training samples reaching node i\n",
    "    \n",
    "    imp = tree.impurity   #   impurity at node i\n",
    "    \n",
    "    feat = tree.feature   #   features split on for node i\n",
    "    \n",
    "    importances = []   #   list of node importances using the Gini Importance\n",
    "    \n",
    "    for i in range (tree.node_count):\n",
    "        importance = w[i]*imp[i] - w[tree.children_left[i]]*imp[tree.children_left[i]] - w[tree.children_right[i]]*imp[tree.children_right[i]]\n",
    "        #   computation of the Gini Importance for node i\n",
    "        \n",
    "        importances.append (importance)\n",
    "    \n",
    "    importances = np.array (importances)\n",
    "    \n",
    "    all_node_impo = sum (importances)   #   sum of all node importances\n",
    "    \n",
    "    feature_importance = []   #   list of the importance of each feature\n",
    "   \n",
    "    for j in range (tree.n_features):   #   I changed this to n_features try and see what this does to the function.\n",
    "        \n",
    "        importance_per_feature = sum (importances[feat == j]) / all_node_impo\n",
    "        #   the importance per feature determined by the sum of the node importances for the nodes split on \n",
    "        #   feature j divided by the total node importances.\n",
    "        \n",
    "        feature_importance.append (importance_per_feature)\n",
    "        \n",
    "        \n",
    "    feat_imp_nor = np.array (feature_importance) / sum (feature_importance)   #   normalisation\n",
    "\n",
    "        \n",
    "    return feat_imp_nor"
   ]
  },
  {
   "cell_type": "code",
   "execution_count": 112,
   "metadata": {},
   "outputs": [],
   "source": [
    "from sklearn.tree import DecisionTreeRegressor, DecisionTreeClassifier\n",
    "from sklearn.datasets import load_diabetes\n",
    "from sklearn.model_selection import train_test_split\n",
    "import numpy as np"
   ]
  },
  {
   "cell_type": "code",
   "execution_count": 113,
   "metadata": {},
   "outputs": [],
   "source": [
    "diabetes_data = load_diabetes ()\n",
    "\n",
    "dia_y = diabetes_data.target\n",
    "dia_X = diabetes_data.data\n",
    "\n",
    "dia_X_tr, dia_X_te, dia_y_tr, dia_y_te = train_test_split (dia_X, dia_y, test_size = 0.2)"
   ]
  },
  {
   "cell_type": "markdown",
   "metadata": {},
   "source": [
    "#### Decision tree regressor on diabetes dataset"
   ]
  },
  {
   "cell_type": "code",
   "execution_count": 114,
   "metadata": {},
   "outputs": [
    {
     "data": {
      "text/plain": [
       "DecisionTreeRegressor(criterion='mse', max_depth=5, max_features=None,\n",
       "                      max_leaf_nodes=None, min_impurity_decrease=0.0,\n",
       "                      min_impurity_split=None, min_samples_leaf=1,\n",
       "                      min_samples_split=2, min_weight_fraction_leaf=0.0,\n",
       "                      presort=False, random_state=None, splitter='best')"
      ]
     },
     "execution_count": 114,
     "metadata": {},
     "output_type": "execute_result"
    }
   ],
   "source": [
    "M = DecisionTreeRegressor (max_depth = 5)\n",
    "M.fit (dia_X_tr, dia_y_tr)"
   ]
  },
  {
   "cell_type": "code",
   "execution_count": 115,
   "metadata": {},
   "outputs": [
    {
     "name": "stdout",
     "output_type": "stream",
     "text": [
      "According to the in-built function, the feature importances are:\n"
     ]
    },
    {
     "data": {
      "text/plain": [
       "array([0.04028479, 0.        , 0.25462601, 0.07110936, 0.01570715,\n",
       "       0.04160721, 0.        , 0.02536238, 0.46596223, 0.08534088])"
      ]
     },
     "metadata": {},
     "output_type": "display_data"
    },
    {
     "name": "stdout",
     "output_type": "stream",
     "text": [
      "For the function above, the feature imporances are:\n"
     ]
    },
    {
     "data": {
      "text/plain": [
       "array([0.04028479, 0.        , 0.25462601, 0.07110936, 0.01570715,\n",
       "       0.04160721, 0.        , 0.02536238, 0.46596223, 0.08534088])"
      ]
     },
     "metadata": {},
     "output_type": "display_data"
    }
   ],
   "source": [
    "print (f'According to the in-built function, the feature importances are:')\n",
    "display (M.feature_importances_)\n",
    "\n",
    "print (f'For the function above, the feature imporances are:')\n",
    "display (feature_importance (M.tree_))"
   ]
  },
  {
   "cell_type": "code",
   "execution_count": 116,
   "metadata": {},
   "outputs": [
    {
     "data": {
      "text/plain": [
       "array([1, 6, 4, 7, 0, 5, 3, 9, 2, 8])"
      ]
     },
     "metadata": {},
     "output_type": "display_data"
    },
    {
     "data": {
      "text/plain": [
       "array([1, 6, 4, 7, 0, 5, 3, 9, 2, 8])"
      ]
     },
     "metadata": {},
     "output_type": "display_data"
    }
   ],
   "source": [
    "display (M.feature_importances_.argsort ())\n",
    "display (feature_importance (M.tree_).argsort ())"
   ]
  },
  {
   "cell_type": "markdown",
   "metadata": {},
   "source": [
    "The built function, above, and the attribute built-in to sklearn produce the same results."
   ]
  },
  {
   "cell_type": "markdown",
   "metadata": {},
   "source": [
    "#### Decision tree classifier on diabetes dataset"
   ]
  },
  {
   "cell_type": "code",
   "execution_count": 117,
   "metadata": {},
   "outputs": [
    {
     "data": {
      "text/plain": [
       "DecisionTreeClassifier(class_weight=None, criterion='gini', max_depth=3,\n",
       "                       max_features=None, max_leaf_nodes=None,\n",
       "                       min_impurity_decrease=0.0, min_impurity_split=None,\n",
       "                       min_samples_leaf=1, min_samples_split=2,\n",
       "                       min_weight_fraction_leaf=0.0, presort=False,\n",
       "                       random_state=None, splitter='best')"
      ]
     },
     "execution_count": 117,
     "metadata": {},
     "output_type": "execute_result"
    }
   ],
   "source": [
    "M = DecisionTreeClassifier (max_depth = 3)\n",
    "M.fit (dia_X_tr, dia_y_tr)"
   ]
  },
  {
   "cell_type": "code",
   "execution_count": 118,
   "metadata": {},
   "outputs": [
    {
     "name": "stdout",
     "output_type": "stream",
     "text": [
      "According to the in-built function, the feature importances are:\n"
     ]
    },
    {
     "data": {
      "text/plain": [
       "array([0.        , 0.12711456, 0.16093153, 0.1747253 , 0.1239864 ,\n",
       "       0.        , 0.41324221, 0.        , 0.        , 0.        ])"
      ]
     },
     "metadata": {},
     "output_type": "display_data"
    },
    {
     "name": "stdout",
     "output_type": "stream",
     "text": [
      "For the function above, the feature imporances are:\n"
     ]
    },
    {
     "data": {
      "text/plain": [
       "array([0.        , 0.12711456, 0.16093153, 0.1747253 , 0.1239864 ,\n",
       "       0.        , 0.41324221, 0.        , 0.        , 0.        ])"
      ]
     },
     "metadata": {},
     "output_type": "display_data"
    }
   ],
   "source": [
    "print (f'According to the in-built function, the feature importances are:')\n",
    "display (M.feature_importances_)\n",
    "\n",
    "print (f'For the function above, the feature imporances are:')\n",
    "display (feature_importance (M.tree_))"
   ]
  },
  {
   "cell_type": "code",
   "execution_count": 119,
   "metadata": {},
   "outputs": [
    {
     "data": {
      "text/plain": [
       "array([0, 5, 7, 8, 9, 4, 1, 2, 3, 6])"
      ]
     },
     "metadata": {},
     "output_type": "display_data"
    },
    {
     "data": {
      "text/plain": [
       "array([0, 5, 7, 8, 9, 4, 1, 2, 3, 6])"
      ]
     },
     "metadata": {},
     "output_type": "display_data"
    }
   ],
   "source": [
    "display (M.feature_importances_.argsort ())\n",
    "display (feature_importance (M.tree_).argsort ())"
   ]
  },
  {
   "cell_type": "markdown",
   "metadata": {},
   "source": [
    "The built function, above, and the attribute parameter built-in to sklearn produce the same result."
   ]
  },
  {
   "cell_type": "code",
   "execution_count": 120,
   "metadata": {},
   "outputs": [],
   "source": [
    "#M.tree_?\n",
    "#help (M.tree_)"
   ]
  },
  {
   "cell_type": "code",
   "execution_count": null,
   "metadata": {},
   "outputs": [],
   "source": []
  }
 ],
 "metadata": {
  "kernelspec": {
   "display_name": "Python 3",
   "language": "python",
   "name": "python3"
  },
  "language_info": {
   "codemirror_mode": {
    "name": "ipython",
    "version": 3
   },
   "file_extension": ".py",
   "mimetype": "text/x-python",
   "name": "python",
   "nbconvert_exporter": "python",
   "pygments_lexer": "ipython3",
   "version": "3.7.4"
  }
 },
 "nbformat": 4,
 "nbformat_minor": 4
}
